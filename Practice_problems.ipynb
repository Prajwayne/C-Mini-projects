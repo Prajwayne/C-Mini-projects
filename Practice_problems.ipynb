{
  "nbformat": 4,
  "nbformat_minor": 0,
  "metadata": {
    "colab": {
      "provenance": [],
      "authorship_tag": "ABX9TyMTPdSZKwjh6QuisBepbyhl",
      "include_colab_link": true
    },
    "kernelspec": {
      "name": "python3",
      "display_name": "Python 3"
    },
    "language_info": {
      "name": "python"
    }
  },
  "cells": [
    {
      "cell_type": "markdown",
      "metadata": {
        "id": "view-in-github",
        "colab_type": "text"
      },
      "source": [
        "<a href=\"https://colab.research.google.com/github/Prajwayne/C-Mini-projects/blob/main/Practice_problems.ipynb\" target=\"_parent\"><img src=\"https://colab.research.google.com/assets/colab-badge.svg\" alt=\"Open In Colab\"/></a>"
      ]
    },
    {
      "cell_type": "code",
      "source": [
        "import re"
      ],
      "metadata": {
        "id": "51m4wDNvGdq_"
      },
      "execution_count": 8,
      "outputs": []
    },
    {
      "cell_type": "code",
      "source": [
        "s = \"07:05:45PM\""
      ],
      "metadata": {
        "id": "E60wftSgITQA"
      },
      "execution_count": 20,
      "outputs": []
    },
    {
      "cell_type": "code",
      "source": [
        "hour,minute,sec = re.findall('\\d+', s)\n",
        "am_pm = re.findall('\\D+', s)\n",
        "minute = minute[:2]\n",
        "sec = sec[:2]\n",
        "am_pm = am_pm[2]\n",
        "    "
      ],
      "metadata": {
        "id": "jNTTw2AeIOrc"
      },
      "execution_count": 30,
      "outputs": []
    },
    {
      "cell_type": "code",
      "source": [
        "hour"
      ],
      "metadata": {
        "colab": {
          "base_uri": "https://localhost:8080/",
          "height": 36
        },
        "id": "YBBwSj8iIt-Y",
        "outputId": "4a1478e7-f37f-4341-b12e-610446e250ab"
      },
      "execution_count": 34,
      "outputs": [
        {
          "output_type": "execute_result",
          "data": {
            "text/plain": [
              "'07'"
            ],
            "application/vnd.google.colaboratory.intrinsic+json": {
              "type": "string"
            }
          },
          "metadata": {},
          "execution_count": 34
        }
      ]
    },
    {
      "cell_type": "code",
      "source": [
        "am_pm = am_pm[2]"
      ],
      "metadata": {
        "id": "kbqKSCDtIwF-"
      },
      "execution_count": 28,
      "outputs": []
    },
    {
      "cell_type": "code",
      "source": [],
      "metadata": {
        "colab": {
          "base_uri": "https://localhost:8080/",
          "height": 36
        },
        "id": "vwWq_3oGIocK",
        "outputId": "8b7fc7b9-b7af-4547-f50d-5de25890845c"
      },
      "execution_count": 29,
      "outputs": [
        {
          "output_type": "execute_result",
          "data": {
            "text/plain": [
              "'PM'"
            ],
            "application/vnd.google.colaboratory.intrinsic+json": {
              "type": "string"
            }
          },
          "metadata": {},
          "execution_count": 29
        }
      ]
    },
    {
      "cell_type": "code",
      "source": [
        "s = \"07:05:45PM\"\n",
        "\n",
        "hour,minute,sec = s.split(\":\")\n",
        "see = re.findall('\\d+', sec)[0]# numeric \n",
        "am_pm = re.findall('\\D+', sec)[0] #non mumeric \n",
        "# minute = minute[:2]\n",
        "# sec = sec[:2]\n",
        "# am_pm = am_pm.strip()"
      ],
      "metadata": {
        "id": "ykkFw20CFmlo"
      },
      "execution_count": 19,
      "outputs": []
    },
    {
      "cell_type": "code",
      "source": [],
      "metadata": {
        "colab": {
          "base_uri": "https://localhost:8080/",
          "height": 172
        },
        "id": "m0H9ilr2Gju2",
        "outputId": "94a6eeea-1c27-4515-dc5e-a668fcd5c3d4"
      },
      "execution_count": 18,
      "outputs": [
        {
          "output_type": "error",
          "ename": "IndexError",
          "evalue": "ignored",
          "traceback": [
            "\u001b[0;31m---------------------------------------------------------------------------\u001b[0m",
            "\u001b[0;31mIndexError\u001b[0m                                Traceback (most recent call last)",
            "\u001b[0;32m<ipython-input-18-0759beeeb8b0>\u001b[0m in \u001b[0;36m<module>\u001b[0;34m\u001b[0m\n\u001b[0;32m----> 1\u001b[0;31m \u001b[0mam_pm\u001b[0m \u001b[0;34m=\u001b[0m \u001b[0mre\u001b[0m\u001b[0;34m.\u001b[0m\u001b[0mfindall\u001b[0m\u001b[0;34m(\u001b[0m\u001b[0;34m'\\D+'\u001b[0m\u001b[0;34m,\u001b[0m \u001b[0msec\u001b[0m\u001b[0;34m)\u001b[0m\u001b[0;34m[\u001b[0m\u001b[0;36m0\u001b[0m\u001b[0;34m]\u001b[0m \u001b[0;31m#non mumeric\u001b[0m\u001b[0;34m\u001b[0m\u001b[0;34m\u001b[0m\u001b[0m\n\u001b[0m",
            "\u001b[0;31mIndexError\u001b[0m: list index out of range"
          ]
        }
      ]
    },
    {
      "cell_type": "code",
      "source": [],
      "metadata": {
        "colab": {
          "base_uri": "https://localhost:8080/",
          "height": 36
        },
        "id": "OMw-fqznH1yD",
        "outputId": "50245601-08e3-4361-b0f7-26c5f1fc5940"
      },
      "execution_count": 17,
      "outputs": [
        {
          "output_type": "execute_result",
          "data": {
            "text/plain": [
              "':'"
            ],
            "application/vnd.google.colaboratory.intrinsic+json": {
              "type": "string"
            }
          },
          "metadata": {},
          "execution_count": 17
        }
      ]
    },
    {
      "cell_type": "markdown",
      "source": [
        "Convert 12 hour time to 24 hour time "
      ],
      "metadata": {
        "id": "Br1kYKz8Laai"
      }
    },
    {
      "cell_type": "code",
      "source": [
        "def timeConversion(s):\n",
        "    # Write your code here\n",
        "    hour,minute,sec = re.findall('\\d+', s)\n",
        "    am_pm = re.findall('\\D+', s)\n",
        "    minute = minute[:2]\n",
        "    sec = sec[:2]\n",
        "    am_pm = am_pm[2]\n",
        "    # hour,am_pm,minute,sec = s.split(\":\")\n",
        "    # minute = minute[:2]\n",
        "    # sec = sec[:2]\n",
        "    # am_pm = am_pm.strip()\n",
        "    \n",
        "    if am_pm == 'PM' and hour != '12':\n",
        "        hour = str(int(hour)+12)\n",
        "    if am_pm == 'AM' and hour == '12':\n",
        "        hour = '00'\n",
        "    \n",
        "    return f\"{hour}:{minute}:{sec}\""
      ],
      "metadata": {
        "id": "RuU8UIO8LZCq"
      },
      "execution_count": 36,
      "outputs": []
    },
    {
      "cell_type": "code",
      "source": [
        "s = s = \"07:05:45PM\"\n",
        "\n",
        "print(timeConversion(s))"
      ],
      "metadata": {
        "colab": {
          "base_uri": "https://localhost:8080/"
        },
        "id": "ifztMgu_LY_g",
        "outputId": "d72d3d96-bb12-4fbf-dc21-2469ac4e3483"
      },
      "execution_count": 37,
      "outputs": [
        {
          "output_type": "stream",
          "name": "stdout",
          "text": [
            "19:05:45\n"
          ]
        }
      ]
    },
    {
      "cell_type": "markdown",
      "source": [
        "#Minimum rotation of arrows "
      ],
      "metadata": {
        "id": "fnaOBPpMLsc8"
      }
    },
    {
      "cell_type": "markdown",
      "source": [
        "You are given a string representing a sequence of N arrows each pointing in one of the four cardinal directions up('^')\n",
        "down('V')left('<') right('>')\n",
        "Write a function solution that given a string S denoting the directions of the arrows returns the minimum number of arrows that must be rotated to make them all point in the same directions "
      ],
      "metadata": {
        "id": "NgvVPqJvL8CQ"
      }
    },
    {
      "cell_type": "code",
      "execution_count": null,
      "metadata": {
        "id": "-l3jx9_gLFPK"
      },
      "outputs": [],
      "source": [
        "def solution(S):\n",
        "    counts = {'^': 0, 'v': 0, '<': 0, '>': 0}\n",
        "    for c in S:\n",
        "        counts[c] += 1\n",
        "    max_count = max(counts.values())\n",
        "    return len(S) - max_count"
      ]
    },
    {
      "cell_type": "code",
      "source": [
        "# solution('^vv<v')\n",
        "solution('v>>>vv')\n",
        "# solution('<<<')\n",
        "\n"
      ],
      "metadata": {
        "colab": {
          "base_uri": "https://localhost:8080/"
        },
        "id": "whZLVctVNFaB",
        "outputId": "8c02c496-2ba8-470a-a69b-8d3119b772eb"
      },
      "execution_count": null,
      "outputs": [
        {
          "output_type": "execute_result",
          "data": {
            "text/plain": [
              "3"
            ]
          },
          "metadata": {},
          "execution_count": 6
        }
      ]
    },
    {
      "cell_type": "code",
      "source": [
        "def solution(A):\n",
        "    periods = 0\n",
        "    start = 0\n",
        "    for i in range(2, len(A)):\n",
        "        if A[i] - A[i-1] == A[i-1] - A[i-2]:\n",
        "            if periods == 0:\n",
        "                start = i - 2\n",
        "            periods += 1\n",
        "        elif periods > 0:\n",
        "            periods = 0\n",
        "            if i - start >= 3:\n",
        "                print((start, i-1))\n",
        "    if periods > 0 and len(A) - start >= 3:\n",
        "        print((start, len(A)-1))\n",
        "    return periods\n"
      ],
      "metadata": {
        "id": "3BU8gaQJQiB_"
      },
      "execution_count": null,
      "outputs": []
    },
    {
      "cell_type": "code",
      "source": [
        "def solution(A):\n",
        "    n = len(A)\n",
        "    periods = 0\n",
        "    i = 0\n",
        "    while i < n - 2:\n",
        "        j = i + 2\n",
        "        while j < n and A[j] - A[j-1] == A[i+1] - A[i]:\n",
        "            j += 1\n",
        "        if j - i >= 3:\n",
        "            periods += 1\n",
        "            print((i, j-1))\n",
        "        i = j - 1\n",
        "    return periods\n"
      ],
      "metadata": {
        "id": "zv7BW8EoQ-xc"
      },
      "execution_count": null,
      "outputs": []
    },
    {
      "cell_type": "code",
      "source": [
        "def solution(A):\n",
        "    n = len(A)\n",
        "    periods = 0\n",
        "    i = 0\n",
        "    while i < n - 2:\n",
        "        j = i + 2\n",
        "        while j < n and A[j] - A[j-1] == A[i+1] - A[i]:\n",
        "            j += 1\n",
        "        if j - i >= 3:\n",
        "            periods += 1\n",
        "            print((i, j-1))\n",
        "        i = j - 1\n",
        "    return periods\n"
      ],
      "metadata": {
        "id": "a44Fj8jcRQpX"
      },
      "execution_count": null,
      "outputs": []
    },
    {
      "cell_type": "code",
      "source": [
        "A = [-1,1,3,3,3,2,3,2,1,0]\n",
        "solution(A)\n"
      ],
      "metadata": {
        "colab": {
          "base_uri": "https://localhost:8080/"
        },
        "id": "nk4dSwQ5Qi6e",
        "outputId": "4c956839-05c4-4fe3-c8ed-360aa98d7b76"
      },
      "execution_count": null,
      "outputs": [
        {
          "output_type": "stream",
          "name": "stdout",
          "text": [
            "(0, 2)\n",
            "(2, 4)\n",
            "(6, 9)\n"
          ]
        },
        {
          "output_type": "execute_result",
          "data": {
            "text/plain": [
              "3"
            ]
          },
          "metadata": {},
          "execution_count": 13
        }
      ]
    }
  ]
}